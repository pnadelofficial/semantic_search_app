{
 "cells": [
  {
   "cell_type": "code",
   "execution_count": 1,
   "metadata": {},
   "outputs": [],
   "source": [
    "import pandas as pd\n",
    "import txtai "
   ]
  },
  {
   "cell_type": "code",
   "execution_count": 2,
   "metadata": {},
   "outputs": [
    {
     "data": {
      "text/html": [
       "<div>\n",
       "<style scoped>\n",
       "    .dataframe tbody tr th:only-of-type {\n",
       "        vertical-align: middle;\n",
       "    }\n",
       "\n",
       "    .dataframe tbody tr th {\n",
       "        vertical-align: top;\n",
       "    }\n",
       "\n",
       "    .dataframe thead th {\n",
       "        text-align: right;\n",
       "    }\n",
       "</style>\n",
       "<table border=\"1\" class=\"dataframe\">\n",
       "  <thead>\n",
       "    <tr style=\"text-align: right;\">\n",
       "      <th></th>\n",
       "      <th>Unnamed: 0</th>\n",
       "      <th>org_idx</th>\n",
       "      <th>sents</th>\n",
       "    </tr>\n",
       "  </thead>\n",
       "  <tbody>\n",
       "    <tr>\n",
       "      <th>0</th>\n",
       "      <td>0</td>\n",
       "      <td>0</td>\n",
       "      <td>The meeting was called to order in public sess...</td>\n",
       "    </tr>\n",
       "    <tr>\n",
       "      <th>1</th>\n",
       "      <td>1</td>\n",
       "      <td>0</td>\n",
       "      <td>The Committee met in executive session prior t...</td>\n",
       "    </tr>\n",
       "    <tr>\n",
       "      <th>2</th>\n",
       "      <td>2</td>\n",
       "      <td>0</td>\n",
       "      <td>Commissioner Steiner was not present for the v...</td>\n",
       "    </tr>\n",
       "    <tr>\n",
       "      <th>3</th>\n",
       "      <td>3</td>\n",
       "      <td>0</td>\n",
       "      <td>(Special Operations – 6/28/12) \\t 4\\nUNDERWRIT...</td>\n",
       "    </tr>\n",
       "    <tr>\n",
       "      <th>4</th>\n",
       "      <td>4</td>\n",
       "      <td>0</td>\n",
       "      <td>At the time of each debt issuance, one or more...</td>\n",
       "    </tr>\n",
       "    <tr>\n",
       "      <th>...</th>\n",
       "      <td>...</td>\n",
       "      <td>...</td>\n",
       "      <td>...</td>\n",
       "    </tr>\n",
       "    <tr>\n",
       "      <th>50765</th>\n",
       "      <td>50765</td>\n",
       "      <td>677</td>\n",
       "      <td>A trial was held in this matter and the jury r...</td>\n",
       "    </tr>\n",
       "    <tr>\n",
       "      <th>50766</th>\n",
       "      <td>50766</td>\n",
       "      <td>677</td>\n",
       "      <td>With the possibility of\\nan appeal, the partie...</td>\n",
       "    </tr>\n",
       "    <tr>\n",
       "      <th>50767</th>\n",
       "      <td>50767</td>\n",
       "      <td>677</td>\n",
       "      <td>Pursuant to the foregoing report, the followin...</td>\n",
       "    </tr>\n",
       "    <tr>\n",
       "      <th>50768</th>\n",
       "      <td>50768</td>\n",
       "      <td>677</td>\n",
       "      <td>by paying to plaintiff and his attorneys the t...</td>\n",
       "    </tr>\n",
       "    <tr>\n",
       "      <th>50769</th>\n",
       "      <td>50769</td>\n",
       "      <td>677</td>\n",
       "      <td>Whereupon, the meeting was adjourned.</td>\n",
       "    </tr>\n",
       "  </tbody>\n",
       "</table>\n",
       "<p>50770 rows × 3 columns</p>\n",
       "</div>"
      ],
      "text/plain": [
       "       Unnamed: 0  org_idx                                              sents\n",
       "0               0        0  The meeting was called to order in public sess...\n",
       "1               1        0  The Committee met in executive session prior t...\n",
       "2               2        0  Commissioner Steiner was not present for the v...\n",
       "3               3        0  (Special Operations – 6/28/12) \\t 4\\nUNDERWRIT...\n",
       "4               4        0  At the time of each debt issuance, one or more...\n",
       "...           ...      ...                                                ...\n",
       "50765       50765      677  A trial was held in this matter and the jury r...\n",
       "50766       50766      677  With the possibility of\\nan appeal, the partie...\n",
       "50767       50767      677  Pursuant to the foregoing report, the followin...\n",
       "50768       50768      677  by paying to plaintiff and his attorneys the t...\n",
       "50769       50769      677              Whereupon, the meeting was adjourned.\n",
       "\n",
       "[50770 rows x 3 columns]"
      ]
     },
     "execution_count": 2,
     "metadata": {},
     "output_type": "execute_result"
    }
   ],
   "source": [
    "pa = pd.read_csv('pa_minutes_sents.csv')\n",
    "pa"
   ]
  },
  {
   "cell_type": "code",
   "execution_count": 3,
   "metadata": {},
   "outputs": [],
   "source": [
    "data = pa.sents"
   ]
  },
  {
   "cell_type": "code",
   "execution_count": 4,
   "metadata": {},
   "outputs": [
    {
     "data": {
      "application/vnd.jupyter.widget-view+json": {
       "model_id": "19d7c4c019654b6dba20ec943b4995ed",
       "version_major": 2,
       "version_minor": 0
      },
      "text/plain": [
       "Downloading (…)lve/main/config.json:   0%|          | 0.00/612 [00:00<?, ?B/s]"
      ]
     },
     "metadata": {},
     "output_type": "display_data"
    },
    {
     "data": {
      "application/vnd.jupyter.widget-view+json": {
       "model_id": "345740954e794ba88b75ef9a684902de",
       "version_major": 2,
       "version_minor": 0
      },
      "text/plain": [
       "Downloading pytorch_model.bin:   0%|          | 0.00/90.9M [00:00<?, ?B/s]"
      ]
     },
     "metadata": {},
     "output_type": "display_data"
    },
    {
     "data": {
      "application/vnd.jupyter.widget-view+json": {
       "model_id": "3b16c6f18ba44dbca055877c769fd6ff",
       "version_major": 2,
       "version_minor": 0
      },
      "text/plain": [
       "Downloading (…)okenizer_config.json:   0%|          | 0.00/350 [00:00<?, ?B/s]"
      ]
     },
     "metadata": {},
     "output_type": "display_data"
    },
    {
     "data": {
      "application/vnd.jupyter.widget-view+json": {
       "model_id": "9232f9e086c648e1bebfd8834753761f",
       "version_major": 2,
       "version_minor": 0
      },
      "text/plain": [
       "Downloading (…)solve/main/vocab.txt:   0%|          | 0.00/232k [00:00<?, ?B/s]"
      ]
     },
     "metadata": {},
     "output_type": "display_data"
    },
    {
     "data": {
      "application/vnd.jupyter.widget-view+json": {
       "model_id": "a8033ac7d80744dd888b6c8cce3dac1b",
       "version_major": 2,
       "version_minor": 0
      },
      "text/plain": [
       "Downloading (…)/main/tokenizer.json:   0%|          | 0.00/466k [00:00<?, ?B/s]"
      ]
     },
     "metadata": {},
     "output_type": "display_data"
    },
    {
     "data": {
      "application/vnd.jupyter.widget-view+json": {
       "model_id": "d2c0d04629d7463da0c7889e2a26488f",
       "version_major": 2,
       "version_minor": 0
      },
      "text/plain": [
       "Downloading (…)cial_tokens_map.json:   0%|          | 0.00/112 [00:00<?, ?B/s]"
      ]
     },
     "metadata": {},
     "output_type": "display_data"
    }
   ],
   "source": [
    "from txtai.embeddings import Embeddings\n",
    "\n",
    "embeddings = Embeddings({\"path\": \"sentence-transformers/all-MiniLM-L6-v2\"})"
   ]
  },
  {
   "cell_type": "code",
   "execution_count": 5,
   "metadata": {},
   "outputs": [],
   "source": [
    "# Create an index for the list of text\n",
    "embeddings.index([(uid, text, None) for uid, text in enumerate(data)])"
   ]
  },
  {
   "cell_type": "code",
   "execution_count": 14,
   "metadata": {},
   "outputs": [
    {
     "data": {
      "text/plain": [
       "[(43267, 0.4772402346134186),\n",
       " (42728, 0.4224868714809418),\n",
       " (3522, 0.4202720522880554),\n",
       " (14408, 0.3831489384174347),\n",
       " (42729, 0.3780725598335266)]"
      ]
     },
     "execution_count": 14,
     "metadata": {},
     "output_type": "execute_result"
    }
   ],
   "source": [
    "embeddings.search('diversity',5)\n",
    "print([pa.org_idx[uid]] ,pa.sents[uid])"
   ]
  },
  {
   "cell_type": "code",
   "execution_count": 13,
   "metadata": {},
   "outputs": [],
   "source": [
    "embeddings.save('pa_index')"
   ]
  },
  {
   "cell_type": "code",
   "execution_count": 15,
   "metadata": {},
   "outputs": [],
   "source": [
    "pa_full = pd.read_csv('pa_minutes_full.csv')"
   ]
  },
  {
   "cell_type": "code",
   "execution_count": 16,
   "metadata": {},
   "outputs": [
    {
     "data": {
      "text/html": [
       "<div>\n",
       "<style scoped>\n",
       "    .dataframe tbody tr th:only-of-type {\n",
       "        vertical-align: middle;\n",
       "    }\n",
       "\n",
       "    .dataframe tbody tr th {\n",
       "        vertical-align: top;\n",
       "    }\n",
       "\n",
       "    .dataframe thead th {\n",
       "        text-align: right;\n",
       "    }\n",
       "</style>\n",
       "<table border=\"1\" class=\"dataframe\">\n",
       "  <thead>\n",
       "    <tr style=\"text-align: right;\">\n",
       "      <th></th>\n",
       "      <th>Unnamed: 0</th>\n",
       "      <th>fname</th>\n",
       "      <th>text</th>\n",
       "      <th>sents</th>\n",
       "    </tr>\n",
       "  </thead>\n",
       "  <tbody>\n",
       "    <tr>\n",
       "      <th>0</th>\n",
       "      <td>0</td>\n",
       "      <td>special_ops_minutes_jun_28_2012.pdf</td>\n",
       "      <td>The meeting was called to order in public sess...</td>\n",
       "      <td>['The meeting was called to order in public se...</td>\n",
       "    </tr>\n",
       "    <tr>\n",
       "      <th>1</th>\n",
       "      <td>1</td>\n",
       "      <td>PA_Finance_Minutes-12-10-14.pdf</td>\n",
       "      <td>The Committee meeting was called to order in e...</td>\n",
       "      <td>['The Committee meeting was called to order in...</td>\n",
       "    </tr>\n",
       "    <tr>\n",
       "      <th>2</th>\n",
       "      <td>2</td>\n",
       "      <td>NYNJRC_Minutes_0707.pdf</td>\n",
       "      <td>meeting was called to order by Chairman Coscia...</td>\n",
       "      <td>['meeting was called to order by Chairman Cosc...</td>\n",
       "    </tr>\n",
       "    <tr>\n",
       "      <th>3</th>\n",
       "      <td>3</td>\n",
       "      <td>062906_ops_minutes.pdf</td>\n",
       "      <td>The Committee meeting was called to order in e...</td>\n",
       "      <td>['The Committee meeting was called to order in...</td>\n",
       "    </tr>\n",
       "    <tr>\n",
       "      <th>4</th>\n",
       "      <td>4</td>\n",
       "      <td>PA Finance Minutes 2 18 16.pdf</td>\n",
       "      <td>The Committee meeting was called to order in e...</td>\n",
       "      <td>['The Committee meeting was called to order in...</td>\n",
       "    </tr>\n",
       "    <tr>\n",
       "      <th>...</th>\n",
       "      <td>...</td>\n",
       "      <td>...</td>\n",
       "      <td>...</td>\n",
       "      <td>...</td>\n",
       "    </tr>\n",
       "    <tr>\n",
       "      <th>672</th>\n",
       "      <td>673</td>\n",
       "      <td>december_17_2008_board_minutes.pdf</td>\n",
       "      <td>meeting was called to order by Chairman Coscia...</td>\n",
       "      <td>['meeting was called to order by Chairman Cosc...</td>\n",
       "    </tr>\n",
       "    <tr>\n",
       "      <th>673</th>\n",
       "      <td>674</td>\n",
       "      <td>pa_minutes_7_24_2013.pdf</td>\n",
       "      <td>meeting was called to order by Chairman Samson...</td>\n",
       "      <td>['meeting was called to order by Chairman Sams...</td>\n",
       "    </tr>\n",
       "    <tr>\n",
       "      <th>674</th>\n",
       "      <td>675</td>\n",
       "      <td>path_board_minutes_oct_21_2010.pdf</td>\n",
       "      <td>meeting was called to order by Chairman Coscia...</td>\n",
       "      <td>['meeting was called to order by Chairman Cosc...</td>\n",
       "    </tr>\n",
       "    <tr>\n",
       "      <th>675</th>\n",
       "      <td>676</td>\n",
       "      <td>finance_minutes_091714.pdf</td>\n",
       "      <td>The Committee meeting was called to order in e...</td>\n",
       "      <td>['The Committee meeting was called to order in...</td>\n",
       "    </tr>\n",
       "    <tr>\n",
       "      <th>676</th>\n",
       "      <td>677</td>\n",
       "      <td>2_path_board_special_5_11_2000.pdf</td>\n",
       "      <td>meeting was called to order in executive sessi...</td>\n",
       "      <td>['meeting was called to order in executive ses...</td>\n",
       "    </tr>\n",
       "  </tbody>\n",
       "</table>\n",
       "<p>677 rows × 4 columns</p>\n",
       "</div>"
      ],
      "text/plain": [
       "     Unnamed: 0                                fname   \n",
       "0             0  special_ops_minutes_jun_28_2012.pdf  \\\n",
       "1             1      PA_Finance_Minutes-12-10-14.pdf   \n",
       "2             2              NYNJRC_Minutes_0707.pdf   \n",
       "3             3               062906_ops_minutes.pdf   \n",
       "4             4       PA Finance Minutes 2 18 16.pdf   \n",
       "..          ...                                  ...   \n",
       "672         673   december_17_2008_board_minutes.pdf   \n",
       "673         674             pa_minutes_7_24_2013.pdf   \n",
       "674         675   path_board_minutes_oct_21_2010.pdf   \n",
       "675         676           finance_minutes_091714.pdf   \n",
       "676         677   2_path_board_special_5_11_2000.pdf   \n",
       "\n",
       "                                                  text   \n",
       "0    The meeting was called to order in public sess...  \\\n",
       "1    The Committee meeting was called to order in e...   \n",
       "2    meeting was called to order by Chairman Coscia...   \n",
       "3    The Committee meeting was called to order in e...   \n",
       "4    The Committee meeting was called to order in e...   \n",
       "..                                                 ...   \n",
       "672  meeting was called to order by Chairman Coscia...   \n",
       "673  meeting was called to order by Chairman Samson...   \n",
       "674  meeting was called to order by Chairman Coscia...   \n",
       "675  The Committee meeting was called to order in e...   \n",
       "676  meeting was called to order in executive sessi...   \n",
       "\n",
       "                                                 sents  \n",
       "0    ['The meeting was called to order in public se...  \n",
       "1    ['The Committee meeting was called to order in...  \n",
       "2    ['meeting was called to order by Chairman Cosc...  \n",
       "3    ['The Committee meeting was called to order in...  \n",
       "4    ['The Committee meeting was called to order in...  \n",
       "..                                                 ...  \n",
       "672  ['meeting was called to order by Chairman Cosc...  \n",
       "673  ['meeting was called to order by Chairman Sams...  \n",
       "674  ['meeting was called to order by Chairman Cosc...  \n",
       "675  ['The Committee meeting was called to order in...  \n",
       "676  ['meeting was called to order in executive ses...  \n",
       "\n",
       "[677 rows x 4 columns]"
      ]
     },
     "execution_count": 16,
     "metadata": {},
     "output_type": "execute_result"
    }
   ],
   "source": [
    "pa_full"
   ]
  },
  {
   "cell_type": "code",
   "execution_count": 20,
   "metadata": {},
   "outputs": [
    {
     "data": {
      "text/plain": [
       "[0, 1]"
      ]
     },
     "execution_count": 20,
     "metadata": {},
     "output_type": "execute_result"
    }
   ],
   "source": [
    "list(range(2))"
   ]
  },
  {
   "cell_type": "code",
   "execution_count": null,
   "metadata": {},
   "outputs": [],
   "source": []
  }
 ],
 "metadata": {
  "kernelspec": {
   "display_name": "Python 3.11.2 ('sem_search')",
   "language": "python",
   "name": "python3"
  },
  "language_info": {
   "codemirror_mode": {
    "name": "ipython",
    "version": 3
   },
   "file_extension": ".py",
   "mimetype": "text/x-python",
   "name": "python",
   "nbconvert_exporter": "python",
   "pygments_lexer": "ipython3",
   "version": "3.11.2"
  },
  "orig_nbformat": 4,
  "vscode": {
   "interpreter": {
    "hash": "594918a162e91ad4eec47bac77e1fa4abd4f0092e4f6ff314145449b0754d12b"
   }
  }
 },
 "nbformat": 4,
 "nbformat_minor": 2
}
